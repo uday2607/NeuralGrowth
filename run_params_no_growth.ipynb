{
 "cells": [
  {
   "cell_type": "code",
   "execution_count": 26,
   "metadata": {},
   "outputs": [],
   "source": [
    "# Import all the important libraries\n",
    "import numpy as np\n",
    "import numba as nb\n",
    "\n",
    "from sys_pde_no_growth import *"
   ]
  },
  {
   "cell_type": "code",
   "execution_count": 30,
   "metadata": {},
   "outputs": [],
   "source": [
    "# Define all the system params\n",
    "sys_params = np.zeros(16)\n",
    "sys_params[0] = 0.5 # D_b\n",
    "sys_params[1] = 0.5 # D_i\n",
    "sys_params[2] = 1/5 # d_b\n",
    "sys_params[3] = 1/10 # d_i\n",
    "sys_params[4] = 1 # d_s\n",
    "sys_params[5] = 1/8 # d_l\n",
    "sys_params[6] = 1.4 # a_b_s\n",
    "sys_params[7] = 1 # a_b_l\n",
    "sys_params[8] = 0.08 # a_l_s\n",
    "sys_params[9] = 0.7 # b_0\n",
    "sys_params[10] = 0.2 #K_i\n",
    "sys_params[11] = 1 # K_l\n",
    "sys_params[12] = 0.1 # K_s\n",
    "sys_params[13] = 2 # Hill coefficient (ask David)\n",
    "sys_params[14] = 1 # A - pSmad edge effects\n",
    "sys_params[15] = 0.1 # \\sigma - pSmad edge effects"
   ]
  },
  {
   "cell_type": "code",
   "execution_count": 31,
   "metadata": {},
   "outputs": [],
   "source": [
    "# Define all the simulations params\n",
    "sol_params = np.zeros(10)\n",
    "sol_params[0] = 0.01 # dt \n",
    "sol_params[1] = 1 # dx\n",
    "sol_params[2] = 300/sol_params[1] #Lx\n",
    "sol_params[3] = 300/sol_params[1] #Ly\n",
    "sol_params[4] = 100/sol_params[1] # Radius of cell colony\n",
    "sol_params[5] = 160/sol_params[0] # Total time, T\n",
    "sol_params[6] = 4/sol_params[0] # Delta t (snapshot saving time)\n",
    "sol_params[7] = 8/sol_params[0] # Cell Colony starts growing then (early migratory cells)\n",
    "sol_params[8] = 0.25*sol_params[0] # Cell colony growth rate\n",
    "sol_params[9] = 0 # pSmad edge-activation"
   ]
  },
  {
   "cell_type": "code",
   "execution_count": 32,
   "metadata": {},
   "outputs": [],
   "source": [
    "# Set the files path\n",
    "F_PATH = \"NoGrowth_edge/\" if sol_params[9] else \"NoGrowth_no_edge/\""
   ]
  },
  {
   "cell_type": "code",
   "execution_count": 33,
   "metadata": {},
   "outputs": [],
   "source": [
    "# Vary degradation and diffusion rates of BMP and BMPi\n",
    "D_b_vals = [1, 0.5, 0.1]\n",
    "D_i_vals = [1, 0.5, 0.1]\n",
    "d_b_vals = [0.5, 0.2, 0.1]\n",
    "d_i_vals = [0.2, 0.1, 0.05]"
   ]
  },
  {
   "cell_type": "code",
   "execution_count": 34,
   "metadata": {},
   "outputs": [],
   "source": [
    "# FOR-FOR-FOR loops time ...\n",
    "for D_b in D_b_vals:\n",
    "    for D_i in D_i_vals:\n",
    "        for d_b in d_b_vals:\n",
    "            for d_i in d_i_vals:\n",
    "                sys_params[0] = D_b\n",
    "                sys_params[1] = D_i\n",
    "                sys_params[2] = d_b\n",
    "                sys_params[3] = d_i\n",
    "\n",
    "                # Get the initial conditions\n",
    "                array_b, array_i, array_s, array_l = create_IC_1(sys_params, sol_params)\n",
    "\n",
    "                # Run the sims for these set of params\n",
    "                data_b_time, data_i_time, data_s_time, data_l_time = run_and_save_sys(array_b, \n",
    "                                                                    array_i, array_s, array_l, \n",
    "                                                                      sys_params, sol_params)\n",
    "                \n",
    "                # Write the data to a numpy binary file\n",
    "                file_name = F_PATH+\"DATA/SIM_data_D_b_{}_D_i_{}_d_b_{}_d_i_{}.npy\".format(D_b, D_i, \n",
    "                                                                                          d_b, d_i)\n",
    "                \n",
    "                with open(file_name, \"wb\") as f:\n",
    "                    np.save(f, sys_params)\n",
    "                    np.save(f, sol_params)\n",
    "                    np.save(f, data_b_time)\n",
    "                    np.save(f, data_i_time)\n",
    "                    np.save(f, data_s_time)\n",
    "                    np.save(f, data_l_time)"
   ]
  },
  {
   "cell_type": "code",
   "execution_count": null,
   "metadata": {},
   "outputs": [],
   "source": []
  }
 ],
 "metadata": {
  "kernelspec": {
   "display_name": "datascience",
   "language": "python",
   "name": "python3"
  },
  "language_info": {
   "codemirror_mode": {
    "name": "ipython",
    "version": 3
   },
   "file_extension": ".py",
   "mimetype": "text/x-python",
   "name": "python",
   "nbconvert_exporter": "python",
   "pygments_lexer": "ipython3",
   "version": "3.10.13"
  }
 },
 "nbformat": 4,
 "nbformat_minor": 2
}
